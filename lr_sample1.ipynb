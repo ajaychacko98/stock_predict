{
  "nbformat": 4,
  "nbformat_minor": 0,
  "metadata": {
    "colab": {
      "name": "lr_sample1.ipynb",
      "provenance": [],
      "authorship_tag": "ABX9TyPrVvRZQjuxFjsul/WndGCl",
      "include_colab_link": true
    },
    "kernelspec": {
      "name": "python3",
      "display_name": "Python 3"
    }
  },
  "cells": [
    {
      "cell_type": "markdown",
      "metadata": {
        "id": "view-in-github",
        "colab_type": "text"
      },
      "source": [
        "<a href=\"https://colab.research.google.com/github/ajaychacko98/stock_predict/blob/master/lr_sample1.ipynb\" target=\"_parent\"><img src=\"https://colab.research.google.com/assets/colab-badge.svg\" alt=\"Open In Colab\"/></a>"
      ]
    },
    {
      "cell_type": "code",
      "metadata": {
        "id": "tl90t0qvaId3",
        "colab_type": "code",
        "colab": {
          "base_uri": "https://localhost:8080/",
          "height": 605
        },
        "outputId": "9c1f270a-e7c5-4289-d5e2-b6709692ae0d"
      },
      "source": [
        "# Importing is Done Here\n",
        "# Please Wait WWhile We Load\n",
        "\n",
        "print(\"BEGIN\\n\\n\")\n",
        "!pip install quandl\n",
        "import quandl\n",
        "import numpy as np\n",
        "from sklearn.linear_model import LinearRegression\n",
        "from sklearn.svm import SVR\n",
        "from sklearn.model_selection import train_test_split\n",
        "\n"
      ],
      "execution_count": 3,
      "outputs": [
        {
          "output_type": "stream",
          "text": [
            "BEGIN\n",
            "\n",
            "\n",
            "Requirement already satisfied: quandl in /usr/local/lib/python3.6/dist-packages (3.5.0)\n",
            "Requirement already satisfied: python-dateutil in /usr/local/lib/python3.6/dist-packages (from quandl) (2.6.1)\n",
            "Requirement already satisfied: six in /usr/local/lib/python3.6/dist-packages (from quandl) (1.12.0)\n",
            "Requirement already satisfied: numpy>=1.8 in /usr/local/lib/python3.6/dist-packages (from quandl) (1.17.5)\n",
            "Requirement already satisfied: pandas>=0.14 in /usr/local/lib/python3.6/dist-packages (from quandl) (0.25.3)\n",
            "Requirement already satisfied: requests>=2.7.0 in /usr/local/lib/python3.6/dist-packages (from quandl) (2.21.0)\n",
            "Requirement already satisfied: inflection>=0.3.1 in /usr/local/lib/python3.6/dist-packages (from quandl) (0.3.1)\n",
            "Requirement already satisfied: more-itertools in /usr/local/lib/python3.6/dist-packages (from quandl) (8.2.0)\n",
            "Requirement already satisfied: pytz>=2017.2 in /usr/local/lib/python3.6/dist-packages (from pandas>=0.14->quandl) (2018.9)\n",
            "Requirement already satisfied: idna<2.9,>=2.5 in /usr/local/lib/python3.6/dist-packages (from requests>=2.7.0->quandl) (2.8)\n",
            "Requirement already satisfied: certifi>=2017.4.17 in /usr/local/lib/python3.6/dist-packages (from requests>=2.7.0->quandl) (2019.11.28)\n",
            "Requirement already satisfied: chardet<3.1.0,>=3.0.2 in /usr/local/lib/python3.6/dist-packages (from requests>=2.7.0->quandl) (3.0.4)\n",
            "Requirement already satisfied: urllib3<1.25,>=1.21.1 in /usr/local/lib/python3.6/dist-packages (from requests>=2.7.0->quandl) (1.24.3)\n",
            "               Open     High      Low  ...  Adj. Low  Adj. Close  Adj. Volume\n",
            "Date                                   ...                                   \n",
            "2018-03-21  1092.74  1106.30  1085.15  ...   1085.15     1090.88    1640709.0\n",
            "2018-03-22  1081.88  1082.90  1045.91  ...   1045.91     1049.08    2580374.0\n",
            "2018-03-23  1047.03  1063.36  1021.22  ...   1021.22     1021.57    2113497.0\n",
            "2018-03-26  1046.00  1055.63  1008.40  ...   1008.40     1053.21    2558385.0\n",
            "2018-03-27  1063.00  1064.84   996.92  ...    996.92     1005.10    3029471.0\n",
            "\n",
            "[5 rows x 12 columns]\n",
            "LR confidence  0.6730814324711557\n",
            "\n",
            "LR Predicted\n",
            " 1433.763956852311\n",
            "\n",
            "\n",
            "END\n"
          ],
          "name": "stdout"
        }
      ]
    },
    {
      "cell_type": "code",
      "metadata": {
        "id": "_XVVqhlLb02f",
        "colab_type": "code",
        "colab": {}
      },
      "source": [
        "# Downloading 79% complete\n",
        "df = quandl.get(\"WIKI/GOOG\")\n",
        "\n"
      ],
      "execution_count": 0,
      "outputs": []
    },
    {
      "cell_type": "code",
      "metadata": {
        "id": "cRQj2rQ0a-MS",
        "colab_type": "code",
        "colab": {
          "base_uri": "https://localhost:8080/",
          "height": 439
        },
        "outputId": "7ae5726b-6efa-41e3-91c9-ecaf00c64226"
      },
      "source": [
        "\n",
        "# info = df[['Adj. Close']]\n",
        "# print(\"Data Sts \\n\\n\")\n",
        "print(df)\n",
        "df = df[['Adj. Close']]\n",
        "forecast_out = 430  # for 24/01/2020 FRIDAY it is[ 430  ]add no weekends\n",
        "\n",
        "df['Prediction'] = df[['Adj. Close']].shift(-forecast_out)\n",
        "# print(info.tail())\n",
        "x = np.array(df.drop(['Prediction'], 1))\n",
        "x = x[:-forecast_out]\n",
        "# print(X)\n",
        "y = np.array(df['Prediction'])\n",
        "y = y[:-forecast_out]\n",
        "# print(y)\n",
        "p, a, q, b = train_test_split(x, y, test_size=0.2)\n",
        "\n",
        "lr = LinearRegression()\n",
        "lr.fit(p, q)\n",
        "print(lr)\n",
        "# print(lr)\n",
        "lr_confidence = lr.score(a,b)\n",
        "# print(\"LR confidence \", lr_confidence)\n",
        "\n",
        "x_forcast = np.array(df.drop(['Prediction'], 1))[-forecast_out:]\n",
        "# print(\"\\n Forecasted \\n \",x_forcast)\n",
        "\n",
        "\n",
        "lr_pre = lr.predict(x_forcast)[-2]\n",
        "# [-1]\n",
        "# pre=lr_pre[-2]\n",
        "# now=lr_pre[-1]\n",
        "# diff=now-pre\n",
        "print(\"LR confidence \", lr_confidence)\n",
        "print(\"\\nLR Predicted\\n\", lr_pre)\n",
        "\n",
        "print(\"\\n\\nEND\")\n"
      ],
      "execution_count": 12,
      "outputs": [
        {
          "output_type": "stream",
          "text": [
            "            Adj. Close  Prediction\n",
            "Date                              \n",
            "2014-03-27      558.46      751.61\n",
            "2014-03-28      559.99      749.46\n",
            "2014-03-31      556.97      738.87\n",
            "2014-04-01      567.16      747.77\n",
            "2014-04-02      567.00      743.40\n",
            "...                ...         ...\n",
            "2018-03-21     1090.88         NaN\n",
            "2018-03-22     1049.08         NaN\n",
            "2018-03-23     1021.57         NaN\n",
            "2018-03-26     1053.21         NaN\n",
            "2018-03-27     1005.10         NaN\n",
            "\n",
            "[1007 rows x 2 columns]\n",
            "LinearRegression(copy_X=True, fit_intercept=True, n_jobs=None, normalize=False)\n",
            "LR confidence  0.6640514119221637\n",
            "\n",
            "LR Predicted\n",
            " 1445.5076860322224\n",
            "\n",
            "\n",
            "END\n"
          ],
          "name": "stdout"
        }
      ]
    }
  ]
}